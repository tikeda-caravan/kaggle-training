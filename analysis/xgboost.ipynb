{
 "cells": [
  {
   "cell_type": "code",
   "execution_count": null,
   "id": "75036cfb",
   "metadata": {},
   "outputs": [
    {
     "name": "stdout",
     "output_type": "stream",
     "text": [
      "Downloading data from https://storage.googleapis.com/tensorflow/tf-keras-datasets/mnist.npz\n",
      "11493376/11490434 [==============================] - 7s 1us/step\n",
      "[0]\ttrain-mlogloss:1.36145\teval-mlogloss:1.37945\n",
      "[1]\ttrain-mlogloss:1.02845\teval-mlogloss:1.05507\n",
      "[2]\ttrain-mlogloss:0.80982\teval-mlogloss:0.84405\n",
      "[3]\ttrain-mlogloss:0.65517\teval-mlogloss:0.69440\n",
      "[4]\ttrain-mlogloss:0.54093\teval-mlogloss:0.58534\n",
      "[5]\ttrain-mlogloss:0.45045\teval-mlogloss:0.49992\n",
      "[6]\ttrain-mlogloss:0.37916\teval-mlogloss:0.43248\n",
      "[7]\ttrain-mlogloss:0.32197\teval-mlogloss:0.37777\n",
      "[8]\ttrain-mlogloss:0.27675\teval-mlogloss:0.33486\n",
      "[9]\ttrain-mlogloss:0.24008\teval-mlogloss:0.30103\n",
      "[10]\ttrain-mlogloss:0.21141\teval-mlogloss:0.27420\n"
     ]
    }
   ],
   "source": [
    "# Import module\n",
    "import xgboost as xgb\n",
    "import pandas as pd\n",
    "import numpy as np\n",
    "from tensorflow.keras.datasets import mnist\n",
    "from sklearn.model_selection import train_test_split\n",
    "\n",
    "# Kerasに付属の手書き数字画像データをダウンロード\n",
    "np.random.seed(0)\n",
    "(X_train_base, labels_train_base), (X_test, labels_test) = mnist.load_data()\n",
    "\n",
    "# Training set を学習データ（X_train, labels_train）と検証データ（X_validation, labels_validation）に8:2で分割する\n",
    "X_train,X_validation,labels_train,labels_validation = train_test_split(X_train_base,labels_train_base,test_size = 0.2)\n",
    "\n",
    "# 各画像は行列なので1次元に変換→X_train,X_validation,X_testを上書き\n",
    "X_train = X_train.reshape(-1,784)\n",
    "X_validation = X_validation.reshape(-1,784)\n",
    "X_test = X_test.reshape(-1,784)\n",
    "\n",
    "#正規化\n",
    "X_train = X_train.astype('float32')\n",
    "X_validation = X_validation.astype('float32')\n",
    "X_test = X_test.astype('float32')\n",
    "X_train /= 255\n",
    "X_validation /= 255\n",
    "X_test /= 255\n",
    "\n",
    "# 訓練・テストデータの設定\n",
    "train_data = xgb.DMatrix(X_train, label=labels_train)\n",
    "eval_data = xgb.DMatrix(X_validation, label=labels_validation)\n",
    "X_data = xgb.DMatrix(X_test, label=labels_test)\n",
    "\n",
    "#経過時間計測\n",
    "import time\n",
    "start = time.time()\n",
    "\n",
    "xgb_params = {\n",
    "    # 多値分類問題\n",
    "    'objective':'multi:softmax',\n",
    "    # クラス数\n",
    "    'num_class': 10,\n",
    "    # 学習用の指標 (Multiclass logloss)\n",
    "    'eval_metric': 'mlogloss',\n",
    "    }\n",
    "evals = [(train_data, 'train'), (eval_data, 'eval')]\n",
    "\n",
    "gbm = xgb.train(\n",
    "    xgb_params,\n",
    "    train_data,\n",
    "    num_boost_round=100,\n",
    "    early_stopping_rounds=10,\n",
    "    evals=evals,\n",
    "    )\n",
    "\n",
    "preds = gbm.predict(X_data)\n",
    "from sklearn.metrics import accuracy_score\n",
    "print('accuracy_score:{}'.format(accuracy_score(labels_test, preds)))\n",
    "\n",
    "#経過時間\n",
    "print('elapsed_timetime:{}'.format(time.time()-start))"
   ]
  },
  {
   "cell_type": "code",
   "execution_count": null,
   "id": "e908840e",
   "metadata": {},
   "outputs": [],
   "source": []
  }
 ],
 "metadata": {
  "kernelspec": {
   "display_name": "Python 3",
   "language": "python",
   "name": "python3"
  },
  "language_info": {
   "codemirror_mode": {
    "name": "ipython",
    "version": 3
   },
   "file_extension": ".py",
   "mimetype": "text/x-python",
   "name": "python",
   "nbconvert_exporter": "python",
   "pygments_lexer": "ipython3",
   "version": "3.8.8"
  }
 },
 "nbformat": 4,
 "nbformat_minor": 5
}
